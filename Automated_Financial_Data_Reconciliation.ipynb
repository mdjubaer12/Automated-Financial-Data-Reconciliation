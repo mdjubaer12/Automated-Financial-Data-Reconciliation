{
  "nbformat": 4,
  "nbformat_minor": 0,
  "metadata": {
    "colab": {
      "provenance": []
    },
    "kernelspec": {
      "name": "python3",
      "display_name": "Python 3"
    },
    "language_info": {
      "name": "python"
    }
  },
  "cells": [
    {
      "cell_type": "markdown",
      "source": [
        "**Step 1: Load Data from Excel File**"
      ],
      "metadata": {
        "id": "zFSc1Zt4J2qy"
      }
    },
    {
      "cell_type": "code",
      "source": [
        "import pandas as pd\n",
        "import numpy as np\n",
        "import matplotlib.pyplot as plt\n",
        "import seaborn as sns"
      ],
      "metadata": {
        "id": "TcQFJWJP5Pn_"
      },
      "execution_count": 22,
      "outputs": []
    },
    {
      "cell_type": "code",
      "source": [
        "file_path = '/content/online retail.xlsx'\n",
        "df = pd.read_excel(file_path)\n",
        "df.dtypes"
      ],
      "metadata": {
        "colab": {
          "base_uri": "https://localhost:8080/",
          "height": 335
        },
        "id": "cUVZs2xeE46n",
        "outputId": "66a2091e-0621-4d23-f260-af5fb4e1a638"
      },
      "execution_count": 3,
      "outputs": [
        {
          "output_type": "execute_result",
          "data": {
            "text/plain": [
              "Invoice                object\n",
              "StockCode              object\n",
              "Description            object\n",
              "Quantity                int64\n",
              "InvoiceDate    datetime64[ns]\n",
              "Price                 float64\n",
              "Customer ID           float64\n",
              "Country                object\n",
              "dtype: object"
            ],
            "text/html": [
              "<div>\n",
              "<style scoped>\n",
              "    .dataframe tbody tr th:only-of-type {\n",
              "        vertical-align: middle;\n",
              "    }\n",
              "\n",
              "    .dataframe tbody tr th {\n",
              "        vertical-align: top;\n",
              "    }\n",
              "\n",
              "    .dataframe thead th {\n",
              "        text-align: right;\n",
              "    }\n",
              "</style>\n",
              "<table border=\"1\" class=\"dataframe\">\n",
              "  <thead>\n",
              "    <tr style=\"text-align: right;\">\n",
              "      <th></th>\n",
              "      <th>0</th>\n",
              "    </tr>\n",
              "  </thead>\n",
              "  <tbody>\n",
              "    <tr>\n",
              "      <th>Invoice</th>\n",
              "      <td>object</td>\n",
              "    </tr>\n",
              "    <tr>\n",
              "      <th>StockCode</th>\n",
              "      <td>object</td>\n",
              "    </tr>\n",
              "    <tr>\n",
              "      <th>Description</th>\n",
              "      <td>object</td>\n",
              "    </tr>\n",
              "    <tr>\n",
              "      <th>Quantity</th>\n",
              "      <td>int64</td>\n",
              "    </tr>\n",
              "    <tr>\n",
              "      <th>InvoiceDate</th>\n",
              "      <td>datetime64[ns]</td>\n",
              "    </tr>\n",
              "    <tr>\n",
              "      <th>Price</th>\n",
              "      <td>float64</td>\n",
              "    </tr>\n",
              "    <tr>\n",
              "      <th>Customer ID</th>\n",
              "      <td>float64</td>\n",
              "    </tr>\n",
              "    <tr>\n",
              "      <th>Country</th>\n",
              "      <td>object</td>\n",
              "    </tr>\n",
              "  </tbody>\n",
              "</table>\n",
              "</div><br><label><b>dtype:</b> object</label>"
            ]
          },
          "metadata": {},
          "execution_count": 3
        }
      ]
    },
    {
      "cell_type": "code",
      "source": [
        "df_2009_2010 = pd.read_excel(file_path, sheet_name='Year 2009-2010')\n",
        "df_2010_2011 = pd.read_excel(file_path, sheet_name='Year 2010-2011')\n",
        "\n",
        "df_2009_2010.head(), df_2010_2011.head()"
      ],
      "metadata": {
        "colab": {
          "base_uri": "https://localhost:8080/"
        },
        "id": "CwsuYKefHTLU",
        "outputId": "e9fc38ed-6fdf-4a72-b0b6-e0eefb1b55e7"
      },
      "execution_count": 7,
      "outputs": [
        {
          "output_type": "execute_result",
          "data": {
            "text/plain": [
              "(  Invoice StockCode                          Description  Quantity  \\\n",
              " 0  489434     85048  15CM CHRISTMAS GLASS BALL 20 LIGHTS        12   \n",
              " 1  489434    79323P                   PINK CHERRY LIGHTS        12   \n",
              " 2  489434    79323W                  WHITE CHERRY LIGHTS        12   \n",
              " 3  489434     22041         RECORD FRAME 7\" SINGLE SIZE         48   \n",
              " 4  489434     21232       STRAWBERRY CERAMIC TRINKET BOX        24   \n",
              " \n",
              "           InvoiceDate  Price  Customer ID         Country  \n",
              " 0 2009-12-01 07:45:00   6.95      13085.0  United Kingdom  \n",
              " 1 2009-12-01 07:45:00   6.75      13085.0  United Kingdom  \n",
              " 2 2009-12-01 07:45:00   6.75      13085.0  United Kingdom  \n",
              " 3 2009-12-01 07:45:00   2.10      13085.0  United Kingdom  \n",
              " 4 2009-12-01 07:45:00   1.25      13085.0  United Kingdom  ,\n",
              "   Invoice StockCode                          Description  Quantity  \\\n",
              " 0  536365    85123A   WHITE HANGING HEART T-LIGHT HOLDER         6   \n",
              " 1  536365     71053                  WHITE METAL LANTERN         6   \n",
              " 2  536365    84406B       CREAM CUPID HEARTS COAT HANGER         8   \n",
              " 3  536365    84029G  KNITTED UNION FLAG HOT WATER BOTTLE         6   \n",
              " 4  536365    84029E       RED WOOLLY HOTTIE WHITE HEART.         6   \n",
              " \n",
              "           InvoiceDate  Price  Customer ID         Country  \n",
              " 0 2010-12-01 08:26:00   2.55      17850.0  United Kingdom  \n",
              " 1 2010-12-01 08:26:00   3.39      17850.0  United Kingdom  \n",
              " 2 2010-12-01 08:26:00   2.75      17850.0  United Kingdom  \n",
              " 3 2010-12-01 08:26:00   3.39      17850.0  United Kingdom  \n",
              " 4 2010-12-01 08:26:00   3.39      17850.0  United Kingdom  )"
            ]
          },
          "metadata": {},
          "execution_count": 7
        }
      ]
    },
    {
      "cell_type": "markdown",
      "source": [
        "**Step 2: Data Inspection**"
      ],
      "metadata": {
        "id": "R_v5lgOsJx8F"
      }
    },
    {
      "cell_type": "code",
      "source": [
        "\n",
        "print(\"Missing values in 2009-2010 dataset:\")\n",
        "print(df_2009_2010.isnull().sum())\n",
        "\n",
        "\n",
        "print(\"\\nMissing values in 2010-2011 dataset:\")\n",
        "print(df_2010_2011.isnull().sum())\n",
        "\n",
        "\n",
        "print(\"\\nData types in 2009-2010 dataset:\")\n",
        "print(df_2009_2010.dtypes)\n",
        "\n",
        "print(\"\\nData types in 2010-2011 dataset:\")\n",
        "print(df_2010_2011.dtypes)"
      ],
      "metadata": {
        "colab": {
          "base_uri": "https://localhost:8080/"
        },
        "id": "AjMbcRUEJvL6",
        "outputId": "5e6f18e5-7dfe-4c77-8ce5-7e44fb7c0d5f"
      },
      "execution_count": 23,
      "outputs": [
        {
          "output_type": "stream",
          "name": "stdout",
          "text": [
            "Missing values in 2009-2010 dataset:\n",
            "Invoice             0\n",
            "StockCode           0\n",
            "Description      2928\n",
            "Quantity            0\n",
            "InvoiceDate         0\n",
            "Price               0\n",
            "Customer ID    107927\n",
            "Country             0\n",
            "dtype: int64\n",
            "\n",
            "Missing values in 2010-2011 dataset:\n",
            "Invoice             0\n",
            "StockCode           0\n",
            "Description      1454\n",
            "Quantity            0\n",
            "InvoiceDate         0\n",
            "Price               0\n",
            "Customer ID    135080\n",
            "Country             0\n",
            "dtype: int64\n",
            "\n",
            "Data types in 2009-2010 dataset:\n",
            "Invoice                object\n",
            "StockCode              object\n",
            "Description            object\n",
            "Quantity                int64\n",
            "InvoiceDate    datetime64[ns]\n",
            "Price                 float64\n",
            "Customer ID           float64\n",
            "Country                object\n",
            "dtype: object\n",
            "\n",
            "Data types in 2010-2011 dataset:\n",
            "Invoice                object\n",
            "StockCode              object\n",
            "Description            object\n",
            "Quantity                int64\n",
            "InvoiceDate    datetime64[ns]\n",
            "Price                 float64\n",
            "Customer ID           float64\n",
            "Country                object\n",
            "dtype: object\n"
          ]
        }
      ]
    },
    {
      "cell_type": "markdown",
      "source": [
        "**Step 3: Data Cleaning**"
      ],
      "metadata": {
        "id": "fCnGQ1toKEDY"
      }
    },
    {
      "cell_type": "code",
      "source": [
        "# Drop rows with missing Customer ID as it's crucial for reconciliation\n",
        "df_2009_2010_clean = df_2009_2010.dropna(subset=['Customer ID'])\n",
        "df_2010_2011_clean = df_2010_2011.dropna(subset=['Customer ID'])\n",
        "\n",
        "\n",
        "df_2009_2010_clean = df_2009_2010_clean.drop_duplicates()\n",
        "df_2010_2011_clean = df_2010_2011_clean.drop_duplicates()\n",
        "\n",
        "print(\"Data cleaned successfully.\")"
      ],
      "metadata": {
        "colab": {
          "base_uri": "https://localhost:8080/"
        },
        "id": "8afQa46BIN4a",
        "outputId": "01fdf9f0-b8c4-423a-8a26-cc7705a63299"
      },
      "execution_count": 24,
      "outputs": [
        {
          "output_type": "stream",
          "name": "stdout",
          "text": [
            "Data cleaned successfully.\n"
          ]
        }
      ]
    },
    {
      "cell_type": "markdown",
      "source": [
        "**Step 4: Reconciliation Process**"
      ],
      "metadata": {
        "id": "B_-IGefbKLDa"
      }
    },
    {
      "cell_type": "markdown",
      "source": [
        "We’ll reconcile the data by identifying inconsistencies across the two years. This could include mismatched Quantity, Price, or Invoice values. We’ll perform this reconciliation using merge.\n",
        "\n",
        "Reconcile data based on Invoice, StockCode, and Customer ID"
      ],
      "metadata": {
        "id": "edvNn9oGKPLA"
      }
    },
    {
      "cell_type": "code",
      "source": [
        "# Merge the two datasets to identify discrepancies across both years\n",
        "reconciled_data = pd.merge(df_2009_2010_clean, df_2010_2011_clean, on=['Invoice', 'StockCode', 'Customer ID'], how='outer', suffixes=('_2009_2010', '_2010_2011'))\n",
        "\n",
        "# Check for rows where Quantity, Price, or other key metrics don’t match across the two years\n",
        "discrepancies = reconciled_data[(reconciled_data['Quantity_2009_2010'] != reconciled_data['Quantity_2010_2011']) |\n",
        "                                (reconciled_data['Price_2009_2010'] != reconciled_data['Price_2010_2011'])]\n",
        "\n",
        "print(f\"Number of discrepancies found: {len(discrepancies)}\")\n",
        "discrepancies.head()"
      ],
      "metadata": {
        "colab": {
          "base_uri": "https://localhost:8080/",
          "height": 365
        },
        "id": "eMjyNiWOKKqp",
        "outputId": "bf14bd23-afe5-41c3-e022-87273b1de60e"
      },
      "execution_count": 25,
      "outputs": [
        {
          "output_type": "stream",
          "name": "stdout",
          "text": [
            "Number of discrepancies found: 783924\n"
          ]
        },
        {
          "output_type": "execute_result",
          "data": {
            "text/plain": [
              "  Invoice StockCode               Description_2009_2010  Quantity_2009_2010  \\\n",
              "0  489434     21232      STRAWBERRY CERAMIC TRINKET BOX                24.0   \n",
              "1  489434     21523  FANCY FONT HOME SWEET HOME DOORMAT                10.0   \n",
              "2  489434     21871                 SAVE THE PLANET MUG                24.0   \n",
              "3  489434     22041        RECORD FRAME 7\" SINGLE SIZE                 48.0   \n",
              "4  489434     22064          PINK DOUGHNUT TRINKET POT                 24.0   \n",
              "\n",
              "  InvoiceDate_2009_2010  Price_2009_2010  Customer ID Country_2009_2010  \\\n",
              "0   2009-12-01 07:45:00             1.25      13085.0    United Kingdom   \n",
              "1   2009-12-01 07:45:00             5.95      13085.0    United Kingdom   \n",
              "2   2009-12-01 07:45:00             1.25      13085.0    United Kingdom   \n",
              "3   2009-12-01 07:45:00             2.10      13085.0    United Kingdom   \n",
              "4   2009-12-01 07:45:00             1.65      13085.0    United Kingdom   \n",
              "\n",
              "  Description_2010_2011  Quantity_2010_2011 InvoiceDate_2010_2011  \\\n",
              "0                   NaN                 NaN                   NaT   \n",
              "1                   NaN                 NaN                   NaT   \n",
              "2                   NaN                 NaN                   NaT   \n",
              "3                   NaN                 NaN                   NaT   \n",
              "4                   NaN                 NaN                   NaT   \n",
              "\n",
              "   Price_2010_2011 Country_2010_2011  \n",
              "0              NaN               NaN  \n",
              "1              NaN               NaN  \n",
              "2              NaN               NaN  \n",
              "3              NaN               NaN  \n",
              "4              NaN               NaN  "
            ],
            "text/html": [
              "\n",
              "  <div id=\"df-af02845e-70ac-4825-9c08-9c41b70ae0fc\" class=\"colab-df-container\">\n",
              "    <div>\n",
              "<style scoped>\n",
              "    .dataframe tbody tr th:only-of-type {\n",
              "        vertical-align: middle;\n",
              "    }\n",
              "\n",
              "    .dataframe tbody tr th {\n",
              "        vertical-align: top;\n",
              "    }\n",
              "\n",
              "    .dataframe thead th {\n",
              "        text-align: right;\n",
              "    }\n",
              "</style>\n",
              "<table border=\"1\" class=\"dataframe\">\n",
              "  <thead>\n",
              "    <tr style=\"text-align: right;\">\n",
              "      <th></th>\n",
              "      <th>Invoice</th>\n",
              "      <th>StockCode</th>\n",
              "      <th>Description_2009_2010</th>\n",
              "      <th>Quantity_2009_2010</th>\n",
              "      <th>InvoiceDate_2009_2010</th>\n",
              "      <th>Price_2009_2010</th>\n",
              "      <th>Customer ID</th>\n",
              "      <th>Country_2009_2010</th>\n",
              "      <th>Description_2010_2011</th>\n",
              "      <th>Quantity_2010_2011</th>\n",
              "      <th>InvoiceDate_2010_2011</th>\n",
              "      <th>Price_2010_2011</th>\n",
              "      <th>Country_2010_2011</th>\n",
              "    </tr>\n",
              "  </thead>\n",
              "  <tbody>\n",
              "    <tr>\n",
              "      <th>0</th>\n",
              "      <td>489434</td>\n",
              "      <td>21232</td>\n",
              "      <td>STRAWBERRY CERAMIC TRINKET BOX</td>\n",
              "      <td>24.0</td>\n",
              "      <td>2009-12-01 07:45:00</td>\n",
              "      <td>1.25</td>\n",
              "      <td>13085.0</td>\n",
              "      <td>United Kingdom</td>\n",
              "      <td>NaN</td>\n",
              "      <td>NaN</td>\n",
              "      <td>NaT</td>\n",
              "      <td>NaN</td>\n",
              "      <td>NaN</td>\n",
              "    </tr>\n",
              "    <tr>\n",
              "      <th>1</th>\n",
              "      <td>489434</td>\n",
              "      <td>21523</td>\n",
              "      <td>FANCY FONT HOME SWEET HOME DOORMAT</td>\n",
              "      <td>10.0</td>\n",
              "      <td>2009-12-01 07:45:00</td>\n",
              "      <td>5.95</td>\n",
              "      <td>13085.0</td>\n",
              "      <td>United Kingdom</td>\n",
              "      <td>NaN</td>\n",
              "      <td>NaN</td>\n",
              "      <td>NaT</td>\n",
              "      <td>NaN</td>\n",
              "      <td>NaN</td>\n",
              "    </tr>\n",
              "    <tr>\n",
              "      <th>2</th>\n",
              "      <td>489434</td>\n",
              "      <td>21871</td>\n",
              "      <td>SAVE THE PLANET MUG</td>\n",
              "      <td>24.0</td>\n",
              "      <td>2009-12-01 07:45:00</td>\n",
              "      <td>1.25</td>\n",
              "      <td>13085.0</td>\n",
              "      <td>United Kingdom</td>\n",
              "      <td>NaN</td>\n",
              "      <td>NaN</td>\n",
              "      <td>NaT</td>\n",
              "      <td>NaN</td>\n",
              "      <td>NaN</td>\n",
              "    </tr>\n",
              "    <tr>\n",
              "      <th>3</th>\n",
              "      <td>489434</td>\n",
              "      <td>22041</td>\n",
              "      <td>RECORD FRAME 7\" SINGLE SIZE</td>\n",
              "      <td>48.0</td>\n",
              "      <td>2009-12-01 07:45:00</td>\n",
              "      <td>2.10</td>\n",
              "      <td>13085.0</td>\n",
              "      <td>United Kingdom</td>\n",
              "      <td>NaN</td>\n",
              "      <td>NaN</td>\n",
              "      <td>NaT</td>\n",
              "      <td>NaN</td>\n",
              "      <td>NaN</td>\n",
              "    </tr>\n",
              "    <tr>\n",
              "      <th>4</th>\n",
              "      <td>489434</td>\n",
              "      <td>22064</td>\n",
              "      <td>PINK DOUGHNUT TRINKET POT</td>\n",
              "      <td>24.0</td>\n",
              "      <td>2009-12-01 07:45:00</td>\n",
              "      <td>1.65</td>\n",
              "      <td>13085.0</td>\n",
              "      <td>United Kingdom</td>\n",
              "      <td>NaN</td>\n",
              "      <td>NaN</td>\n",
              "      <td>NaT</td>\n",
              "      <td>NaN</td>\n",
              "      <td>NaN</td>\n",
              "    </tr>\n",
              "  </tbody>\n",
              "</table>\n",
              "</div>\n",
              "    <div class=\"colab-df-buttons\">\n",
              "\n",
              "  <div class=\"colab-df-container\">\n",
              "    <button class=\"colab-df-convert\" onclick=\"convertToInteractive('df-af02845e-70ac-4825-9c08-9c41b70ae0fc')\"\n",
              "            title=\"Convert this dataframe to an interactive table.\"\n",
              "            style=\"display:none;\">\n",
              "\n",
              "  <svg xmlns=\"http://www.w3.org/2000/svg\" height=\"24px\" viewBox=\"0 -960 960 960\">\n",
              "    <path d=\"M120-120v-720h720v720H120Zm60-500h600v-160H180v160Zm220 220h160v-160H400v160Zm0 220h160v-160H400v160ZM180-400h160v-160H180v160Zm440 0h160v-160H620v160ZM180-180h160v-160H180v160Zm440 0h160v-160H620v160Z\"/>\n",
              "  </svg>\n",
              "    </button>\n",
              "\n",
              "  <style>\n",
              "    .colab-df-container {\n",
              "      display:flex;\n",
              "      gap: 12px;\n",
              "    }\n",
              "\n",
              "    .colab-df-convert {\n",
              "      background-color: #E8F0FE;\n",
              "      border: none;\n",
              "      border-radius: 50%;\n",
              "      cursor: pointer;\n",
              "      display: none;\n",
              "      fill: #1967D2;\n",
              "      height: 32px;\n",
              "      padding: 0 0 0 0;\n",
              "      width: 32px;\n",
              "    }\n",
              "\n",
              "    .colab-df-convert:hover {\n",
              "      background-color: #E2EBFA;\n",
              "      box-shadow: 0px 1px 2px rgba(60, 64, 67, 0.3), 0px 1px 3px 1px rgba(60, 64, 67, 0.15);\n",
              "      fill: #174EA6;\n",
              "    }\n",
              "\n",
              "    .colab-df-buttons div {\n",
              "      margin-bottom: 4px;\n",
              "    }\n",
              "\n",
              "    [theme=dark] .colab-df-convert {\n",
              "      background-color: #3B4455;\n",
              "      fill: #D2E3FC;\n",
              "    }\n",
              "\n",
              "    [theme=dark] .colab-df-convert:hover {\n",
              "      background-color: #434B5C;\n",
              "      box-shadow: 0px 1px 3px 1px rgba(0, 0, 0, 0.15);\n",
              "      filter: drop-shadow(0px 1px 2px rgba(0, 0, 0, 0.3));\n",
              "      fill: #FFFFFF;\n",
              "    }\n",
              "  </style>\n",
              "\n",
              "    <script>\n",
              "      const buttonEl =\n",
              "        document.querySelector('#df-af02845e-70ac-4825-9c08-9c41b70ae0fc button.colab-df-convert');\n",
              "      buttonEl.style.display =\n",
              "        google.colab.kernel.accessAllowed ? 'block' : 'none';\n",
              "\n",
              "      async function convertToInteractive(key) {\n",
              "        const element = document.querySelector('#df-af02845e-70ac-4825-9c08-9c41b70ae0fc');\n",
              "        const dataTable =\n",
              "          await google.colab.kernel.invokeFunction('convertToInteractive',\n",
              "                                                    [key], {});\n",
              "        if (!dataTable) return;\n",
              "\n",
              "        const docLinkHtml = 'Like what you see? Visit the ' +\n",
              "          '<a target=\"_blank\" href=https://colab.research.google.com/notebooks/data_table.ipynb>data table notebook</a>'\n",
              "          + ' to learn more about interactive tables.';\n",
              "        element.innerHTML = '';\n",
              "        dataTable['output_type'] = 'display_data';\n",
              "        await google.colab.output.renderOutput(dataTable, element);\n",
              "        const docLink = document.createElement('div');\n",
              "        docLink.innerHTML = docLinkHtml;\n",
              "        element.appendChild(docLink);\n",
              "      }\n",
              "    </script>\n",
              "  </div>\n",
              "\n",
              "\n",
              "<div id=\"df-a9b6d645-85d8-4983-b207-c13ad3f34ff9\">\n",
              "  <button class=\"colab-df-quickchart\" onclick=\"quickchart('df-a9b6d645-85d8-4983-b207-c13ad3f34ff9')\"\n",
              "            title=\"Suggest charts\"\n",
              "            style=\"display:none;\">\n",
              "\n",
              "<svg xmlns=\"http://www.w3.org/2000/svg\" height=\"24px\"viewBox=\"0 0 24 24\"\n",
              "     width=\"24px\">\n",
              "    <g>\n",
              "        <path d=\"M19 3H5c-1.1 0-2 .9-2 2v14c0 1.1.9 2 2 2h14c1.1 0 2-.9 2-2V5c0-1.1-.9-2-2-2zM9 17H7v-7h2v7zm4 0h-2V7h2v10zm4 0h-2v-4h2v4z\"/>\n",
              "    </g>\n",
              "</svg>\n",
              "  </button>\n",
              "\n",
              "<style>\n",
              "  .colab-df-quickchart {\n",
              "      --bg-color: #E8F0FE;\n",
              "      --fill-color: #1967D2;\n",
              "      --hover-bg-color: #E2EBFA;\n",
              "      --hover-fill-color: #174EA6;\n",
              "      --disabled-fill-color: #AAA;\n",
              "      --disabled-bg-color: #DDD;\n",
              "  }\n",
              "\n",
              "  [theme=dark] .colab-df-quickchart {\n",
              "      --bg-color: #3B4455;\n",
              "      --fill-color: #D2E3FC;\n",
              "      --hover-bg-color: #434B5C;\n",
              "      --hover-fill-color: #FFFFFF;\n",
              "      --disabled-bg-color: #3B4455;\n",
              "      --disabled-fill-color: #666;\n",
              "  }\n",
              "\n",
              "  .colab-df-quickchart {\n",
              "    background-color: var(--bg-color);\n",
              "    border: none;\n",
              "    border-radius: 50%;\n",
              "    cursor: pointer;\n",
              "    display: none;\n",
              "    fill: var(--fill-color);\n",
              "    height: 32px;\n",
              "    padding: 0;\n",
              "    width: 32px;\n",
              "  }\n",
              "\n",
              "  .colab-df-quickchart:hover {\n",
              "    background-color: var(--hover-bg-color);\n",
              "    box-shadow: 0 1px 2px rgba(60, 64, 67, 0.3), 0 1px 3px 1px rgba(60, 64, 67, 0.15);\n",
              "    fill: var(--button-hover-fill-color);\n",
              "  }\n",
              "\n",
              "  .colab-df-quickchart-complete:disabled,\n",
              "  .colab-df-quickchart-complete:disabled:hover {\n",
              "    background-color: var(--disabled-bg-color);\n",
              "    fill: var(--disabled-fill-color);\n",
              "    box-shadow: none;\n",
              "  }\n",
              "\n",
              "  .colab-df-spinner {\n",
              "    border: 2px solid var(--fill-color);\n",
              "    border-color: transparent;\n",
              "    border-bottom-color: var(--fill-color);\n",
              "    animation:\n",
              "      spin 1s steps(1) infinite;\n",
              "  }\n",
              "\n",
              "  @keyframes spin {\n",
              "    0% {\n",
              "      border-color: transparent;\n",
              "      border-bottom-color: var(--fill-color);\n",
              "      border-left-color: var(--fill-color);\n",
              "    }\n",
              "    20% {\n",
              "      border-color: transparent;\n",
              "      border-left-color: var(--fill-color);\n",
              "      border-top-color: var(--fill-color);\n",
              "    }\n",
              "    30% {\n",
              "      border-color: transparent;\n",
              "      border-left-color: var(--fill-color);\n",
              "      border-top-color: var(--fill-color);\n",
              "      border-right-color: var(--fill-color);\n",
              "    }\n",
              "    40% {\n",
              "      border-color: transparent;\n",
              "      border-right-color: var(--fill-color);\n",
              "      border-top-color: var(--fill-color);\n",
              "    }\n",
              "    60% {\n",
              "      border-color: transparent;\n",
              "      border-right-color: var(--fill-color);\n",
              "    }\n",
              "    80% {\n",
              "      border-color: transparent;\n",
              "      border-right-color: var(--fill-color);\n",
              "      border-bottom-color: var(--fill-color);\n",
              "    }\n",
              "    90% {\n",
              "      border-color: transparent;\n",
              "      border-bottom-color: var(--fill-color);\n",
              "    }\n",
              "  }\n",
              "</style>\n",
              "\n",
              "  <script>\n",
              "    async function quickchart(key) {\n",
              "      const quickchartButtonEl =\n",
              "        document.querySelector('#' + key + ' button');\n",
              "      quickchartButtonEl.disabled = true;  // To prevent multiple clicks.\n",
              "      quickchartButtonEl.classList.add('colab-df-spinner');\n",
              "      try {\n",
              "        const charts = await google.colab.kernel.invokeFunction(\n",
              "            'suggestCharts', [key], {});\n",
              "      } catch (error) {\n",
              "        console.error('Error during call to suggestCharts:', error);\n",
              "      }\n",
              "      quickchartButtonEl.classList.remove('colab-df-spinner');\n",
              "      quickchartButtonEl.classList.add('colab-df-quickchart-complete');\n",
              "    }\n",
              "    (() => {\n",
              "      let quickchartButtonEl =\n",
              "        document.querySelector('#df-a9b6d645-85d8-4983-b207-c13ad3f34ff9 button');\n",
              "      quickchartButtonEl.style.display =\n",
              "        google.colab.kernel.accessAllowed ? 'block' : 'none';\n",
              "    })();\n",
              "  </script>\n",
              "</div>\n",
              "\n",
              "    </div>\n",
              "  </div>\n"
            ],
            "application/vnd.google.colaboratory.intrinsic+json": {
              "type": "dataframe",
              "variable_name": "discrepancies"
            }
          },
          "metadata": {},
          "execution_count": 25
        }
      ]
    },
    {
      "cell_type": "markdown",
      "source": [
        "**Step 5: Visualization of Reconciliation**"
      ],
      "metadata": {
        "id": "iwVuhjHlKa-E"
      }
    },
    {
      "cell_type": "code",
      "source": [
        "# Plot discrepancies in Quantity between the two years\n",
        "plt.figure(figsize=(10, 6))\n",
        "\n",
        "x = pd.to_numeric(discrepancies['Invoice'], errors='coerce')\n",
        "\n",
        "plt.scatter(x, discrepancies['Quantity_2009_2010'], color='red', label='2009-2010 Quantity')\n",
        "plt.scatter(x, discrepancies['Quantity_2010_2011'], color='blue', label='2010-2011 Quantity')\n",
        "plt.xlabel('Invoice')\n",
        "plt.ylabel('Quantity')\n",
        "plt.title('Discrepancies in Quantity Across Invoices')\n",
        "plt.legend()\n",
        "plt.show()"
      ],
      "metadata": {
        "colab": {
          "base_uri": "https://localhost:8080/",
          "height": 564
        },
        "id": "zXju7aZsKat1",
        "outputId": "f781be92-e309-4cac-8483-7ae088fd001b"
      },
      "execution_count": 26,
      "outputs": [
        {
          "output_type": "display_data",
          "data": {
            "text/plain": [
              "<Figure size 1000x600 with 1 Axes>"
            ],
            "image/png": "[encoded data removed]"
          },
          "metadata": {}
        }
      ]
    },
    {
      "cell_type": "markdown",
      "source": [
        "**Step 6: Automating Reconciliation and Reporting**"
      ],
      "metadata": {
        "id": "RHMQMbWcKm44"
      }
    },
    {
      "cell_type": "markdown",
      "source": [
        "Let’s automate the process of reconciling the data. We can write a Python function that will:\n",
        "\n",
        "Identify and correct discrepancies.\n",
        "Generate a reconciliation report."
      ],
      "metadata": {
        "id": "RcqrgZ7PKvog"
      }
    },
    {
      "cell_type": "code",
      "source": [
        "def reconcile_data_and_generate_report(df1, df2, output_report='reconciliation_report.xlsx'):\n",
        "    reconciled_data = pd.merge(df1, df2, on=['Invoice', 'StockCode', 'Customer ID'], how='outer', suffixes=('_2009_2010', '_2010_2011'))\n",
        "\n",
        "    discrepancies = reconciled_data[(reconciled_data['Quantity_2009_2010'] != reconciled_data['Quantity_2010_2011']) |\n",
        "                                    (reconciled_data['Price_2009_2010'] != reconciled_data['Price_2010_2011'])]\n",
        "\n",
        "    discrepancies.to_excel(output_report, index=False)\n",
        "\n",
        "    print(f\"Reconciliation complete. {len(discrepancies)} discrepancies found. Report saved to {output_report}.\")\n",
        "\n",
        "reconcile_data_and_generate_report(df_2009_2010_clean, df_2010_2011_clean)\n"
      ],
      "metadata": {
        "colab": {
          "base_uri": "https://localhost:8080/"
        },
        "id": "D6Xiu_OwKIeY",
        "outputId": "5b8204ee-9870-43a2-8ae1-8a08ce714d80"
      },
      "execution_count": 27,
      "outputs": [
        {
          "output_type": "stream",
          "name": "stdout",
          "text": [
            "Reconciliation complete. 783924 discrepancies found. Report saved to reconciliation_report.xlsx.\n"
          ]
        }
      ]
    },
    {
      "cell_type": "markdown",
      "source": [
        "**Step 7: Final Summary**"
      ],
      "metadata": {
        "id": "YFcaRUUxLEKA"
      }
    },
    {
      "cell_type": "code",
      "source": [
        "total_invoices_2009_2010 = df_2009_2010_clean['Invoice'].nunique()\n",
        "total_invoices_2010_2011 = df_2010_2011_clean['Invoice'].nunique()\n",
        "\n",
        "print(f\"Total Invoices in 2009-2010: {total_invoices_2009_2010}\")\n",
        "print(f\"Total Invoices in 2010-2011: {total_invoices_2010_2011}\")\n",
        "print(f\"Number of discrepancies reconciled: {len(discrepancies)}\")"
      ],
      "metadata": {
        "colab": {
          "base_uri": "https://localhost:8080/"
        },
        "id": "bwMcvlB6K6xR",
        "outputId": "bc6a581f-fbca-4f23-a931-bd73488aadfe"
      },
      "execution_count": 28,
      "outputs": [
        {
          "output_type": "stream",
          "name": "stdout",
          "text": [
            "Total Invoices in 2009-2010: 23587\n",
            "Total Invoices in 2010-2011: 22190\n",
            "Number of discrepancies reconciled: 783924\n"
          ]
        }
      ]
    }
  ]
}